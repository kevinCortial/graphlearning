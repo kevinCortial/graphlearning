{
 "cells": [
  {
   "cell_type": "markdown",
   "id": "83bc5b78",
   "metadata": {
    "id": "83bc5b78"
   },
   "source": [
    "<h1><center> Apprentissage non supervisé avec GraphSAGE sur le product Space </center></h1>\n",
    "\n",
    "<center> Kévin CORTIAL &nbsp;&nbsp;&nbsp; | &nbsp;&nbsp;&nbsp; Open Studio UCA IP / Atlas des Synergies Productives &nbsp;&nbsp;&nbsp; | &nbsp;&nbsp;&nbsp; 19/09/2022 &nbsp;&nbsp;&nbsp; | &nbsp;&nbsp;&nbsp; updated on 24/11/2022 </center>"
   ]
  },
  {
   "cell_type": "markdown",
   "id": "05b43cb9",
   "metadata": {
    "id": "05b43cb9"
   },
   "source": [
    "Librairies nécessaires"
   ]
  },
  {
   "cell_type": "code",
   "execution_count": 1,
   "id": "15b830a1",
   "metadata": {},
   "outputs": [],
   "source": [
    "import pandas as pd\n",
    "\n",
    "import networkx as nx\n",
    "\n",
    "import matplotlib.pyplot as plt\n",
    "\n",
    "import numpy as np\n",
    "\n",
    "from stellargraph import StellarGraph\n",
    "from stellargraph.data import UnsupervisedSampler\n",
    "from stellargraph.mapper import GraphSAGELinkGenerator\n",
    "from stellargraph.layer import GraphSAGE, link_classification\n",
    "from stellargraph.mapper import GraphSAGENodeGenerator\n",
    "from stellargraph import datasets\n",
    "\n",
    "import tensorflow as tf\n",
    "from tensorflow import keras\n",
    "\n",
    "from sklearn import preprocessing\n",
    "from sklearn.cluster import KMeans\n",
    "from sklearn import metrics\n",
    "from sklearn.metrics.cluster import adjusted_rand_score\n",
    "from sklearn.metrics import accuracy_score\n",
    "from sklearn.metrics.cluster import rand_score"
   ]
  },
  {
   "cell_type": "markdown",
   "id": "855c9caa",
   "metadata": {},
   "source": [
    "# Chargement du graph dans Networkx\n",
    "- Prétraitement des données, nettoyage, .. etc"
   ]
  },
  {
   "cell_type": "code",
   "execution_count": 2,
   "id": "df6e2eeb",
   "metadata": {},
   "outputs": [
    {
     "data": {
      "text/html": [
       "<div>\n",
       "<style scoped>\n",
       "    .dataframe tbody tr th:only-of-type {\n",
       "        vertical-align: middle;\n",
       "    }\n",
       "\n",
       "    .dataframe tbody tr th {\n",
       "        vertical-align: top;\n",
       "    }\n",
       "\n",
       "    .dataframe thead th {\n",
       "        text-align: right;\n",
       "    }\n",
       "</style>\n",
       "<table border=\"1\" class=\"dataframe\">\n",
       "  <thead>\n",
       "    <tr style=\"text-align: right;\">\n",
       "      <th></th>\n",
       "      <th>code_hs4</th>\n",
       "      <th>code_hs4_linked</th>\n",
       "      <th>score</th>\n",
       "      <th>name_en</th>\n",
       "      <th>name_en_linked</th>\n",
       "      <th>vector_hs4</th>\n",
       "      <th>vector_hs4_linked</th>\n",
       "    </tr>\n",
       "  </thead>\n",
       "  <tbody>\n",
       "    <tr>\n",
       "      <th>0</th>\n",
       "      <td>0102</td>\n",
       "      <td>0103</td>\n",
       "      <td>0.678185</td>\n",
       "      <td>Live bovine animals</td>\n",
       "      <td>Live swine</td>\n",
       "      <td>[0.0032881612, -7.232755e-05, 0.0048421538, 0....</td>\n",
       "      <td>[0.0028440768, -0.0012178234, 0.0024635517, -0...</td>\n",
       "    </tr>\n",
       "    <tr>\n",
       "      <th>1</th>\n",
       "      <td>0102</td>\n",
       "      <td>0104</td>\n",
       "      <td>0.759883</td>\n",
       "      <td>Live bovine animals</td>\n",
       "      <td>Live sheep and goats</td>\n",
       "      <td>[0.0032881612, -7.232755e-05, 0.0048421538, 0....</td>\n",
       "      <td>[0.0010539496, -0.00232635, -0.001710704, -0.0...</td>\n",
       "    </tr>\n",
       "    <tr>\n",
       "      <th>2</th>\n",
       "      <td>0102</td>\n",
       "      <td>0105</td>\n",
       "      <td>0.827451</td>\n",
       "      <td>Live bovine animals</td>\n",
       "      <td>Live poultry \\fowls of the species Gallus dome...</td>\n",
       "      <td>[0.0032881612, -7.232755e-05, 0.0048421538, 0....</td>\n",
       "      <td>[0.0045550014, 0.0012042683, 0.0017062741, -0....</td>\n",
       "    </tr>\n",
       "  </tbody>\n",
       "</table>\n",
       "</div>"
      ],
      "text/plain": [
       "  code_hs4 code_hs4_linked     score              name_en  \\\n",
       "0     0102            0103  0.678185  Live bovine animals   \n",
       "1     0102            0104  0.759883  Live bovine animals   \n",
       "2     0102            0105  0.827451  Live bovine animals   \n",
       "\n",
       "                                      name_en_linked  \\\n",
       "0                                         Live swine   \n",
       "1                               Live sheep and goats   \n",
       "2  Live poultry \\fowls of the species Gallus dome...   \n",
       "\n",
       "                                          vector_hs4  \\\n",
       "0  [0.0032881612, -7.232755e-05, 0.0048421538, 0....   \n",
       "1  [0.0032881612, -7.232755e-05, 0.0048421538, 0....   \n",
       "2  [0.0032881612, -7.232755e-05, 0.0048421538, 0....   \n",
       "\n",
       "                                   vector_hs4_linked  \n",
       "0  [0.0028440768, -0.0012178234, 0.0024635517, -0...  \n",
       "1  [0.0010539496, -0.00232635, -0.001710704, -0.0...  \n",
       "2  [0.0045550014, 0.0012042683, 0.0017062741, -0....  "
      ]
     },
     "execution_count": 2,
     "metadata": {},
     "output_type": "execute_result"
    }
   ],
   "source": [
    "# DataFrame avec les scores des arrêtes :\n",
    "\n",
    "url = 'https://raw.githubusercontent.com/kevinCortial/graphlearning/main/Product_Space/data/HS_similarity_score.csv'\n",
    "\n",
    "edges_data = pd.read_csv(url,  sep=\"|\", dtype={'code_hs4': object, 'code_hs4_linked': object})\n",
    "\n",
    "test = 'https://github.com/kevinCortial/graphlearning/blob/main/Product_Space/data/HS_similarity_vectors_picklepickle.csv?raw=true'\n",
    "# Load data pour les noeuds\n",
    "edges_vector = pd.read_pickle(test)\n",
    "#edges_vector = pd.read_pickle('/Users/cortial/Documents/Graph_coding/graph-learning/HS_similarity_vectors_picklepickle.csv')\n",
    "# Suppression des noeuds ayant un coefficient à zéro\n",
    "data_no_zero = edges_vector[edges_vector['score'] != 0]\n",
    "data_no_zero.head(3)"
   ]
  },
  {
   "cell_type": "code",
   "execution_count": 3,
   "id": "883b8d06",
   "metadata": {},
   "outputs": [],
   "source": [
    "# Création du graph Networkx à partir d'une matrice d'adjacence\n",
    "\n",
    "df = pd.crosstab(data_no_zero.code_hs4, data_no_zero.code_hs4_linked, dropna=False)\n",
    "idx = df.columns.union(df.index)\n",
    "df = df.reindex(index = idx, columns=idx, fill_value=0)\n",
    "G = nx.from_pandas_adjacency(df, create_using=nx.DiGraph)"
   ]
  },
  {
   "cell_type": "code",
   "execution_count": 4,
   "id": "6401fef6",
   "metadata": {},
   "outputs": [],
   "source": [
    "# Suppression des petits graphes avec une faible centralité\n",
    "centrality = nx.closeness_centrality(G)\n",
    "centrality_sort = {k: v for k, v in sorted(centrality.items(), key=lambda item: item[1])}\n",
    "\n",
    "label_mini_graph = list(centrality_sort.keys())[0:21]"
   ]
  },
  {
   "cell_type": "code",
   "execution_count": 5,
   "id": "26ad0e89",
   "metadata": {},
   "outputs": [
    {
     "data": {
      "image/png": "[encoded data removed]",
      "text/plain": [
       "<Figure size 864x720 with 1 Axes>"
      ]
     },
     "metadata": {},
     "output_type": "display_data"
    }
   ],
   "source": [
    "plt.figure(figsize=(12, 10))\n",
    "G.remove_nodes_from(label_mini_graph)\n",
    "nx.draw_networkx(G, node_size=1, with_labels=False, arrowsize=0.1, node_color='#ac1480', edge_color='whitesmoke')\n",
    "plt.show()\n",
    "#G = G.to_undirected()"
   ]
  },
  {
   "cell_type": "code",
   "execution_count": 6,
   "id": "8dc5758f",
   "metadata": {},
   "outputs": [],
   "source": [
    "#Suppression des lignes de données de ces mini graphes\n",
    "\n",
    "index_mini_graph_1 = []\n",
    "index_mini_graph_2 = []\n",
    "\n",
    "for i in label_mini_graph:\n",
    "    index_mini_graph_1.append(data_no_zero[data_no_zero['code_hs4'].str.contains(i)].index.values)\n",
    "    index_mini_graph_2.append(edges_data[edges_data['code_hs4'].str.contains(i)].index.values)\n",
    "    index_mini_graph_2.append(edges_data[edges_data['code_hs4_linked'].str.contains(i)].index.values)\n",
    "    \n",
    "data_no_zero = data_no_zero.drop(list(np.concatenate(index_mini_graph_1).flat))\n",
    "edges_data = edges_data.drop(list(np.concatenate(index_mini_graph_2).flat))"
   ]
  },
  {
   "cell_type": "code",
   "execution_count": 7,
   "id": "3ed6678c",
   "metadata": {},
   "outputs": [],
   "source": [
    "# Remplis les noeuds du graphe avec des data\n",
    "for node_data in list(G.nodes(data=True)):\n",
    "    G.nodes[node_data[0]]['data'] = data_no_zero[data_no_zero['code_hs4'] == node_data[0]].iloc[0, 5].ravel()\n",
    "    \n",
    "# Remplis les arêtes du graphe\n",
    "for i in edges_data.index.values:\n",
    "    G.edges[edges_data.loc[i,'code_hs4'], edges_data.loc[i,'code_hs4_linked']]['score_arnault'] = edges_data.loc[i,'score']\n",
    "    G.edges[edges_data.loc[i,'code_hs4'], edges_data.loc[i,'code_hs4_linked']]['score_taoufik'] = edges_data.loc[i,'similarity_score']"
   ]
  },
  {
   "cell_type": "code",
   "execution_count": 8,
   "id": "f839e650",
   "metadata": {},
   "outputs": [],
   "source": [
    "# Utilisation des catégories \"Secteur d'activité des entreprises\"\n",
    "url_data_categorie = 'https://github.com/kevinCortial/graphlearning/blob/main/Product_Space/data/data_categorie_hs.csv?raw=true'\n",
    "categories_hs = pd.read_csv(url_data_categorie, dtype={'code_hs4': object, \n",
    "                                                                                      'macro_sector_id': object,\n",
    "                                                                                      'macro_sector_naf_id': object})\n",
    "categories_hs = categories_hs[['code_hs4', 'macro_sector_id', 'macro_sector_naf_id']]\n",
    "categories_hs.macro_sector_id.fillna(categories_hs.macro_sector_naf_id, inplace=True)"
   ]
  },
  {
   "cell_type": "code",
   "execution_count": 9,
   "id": "68faa538",
   "metadata": {},
   "outputs": [],
   "source": [
    "categories_hs.dtypes\n",
    "categories_hs['macro_sector_id'] = categories_hs['macro_sector_id'].astype('int64')"
   ]
  },
  {
   "cell_type": "code",
   "execution_count": 10,
   "id": "233fea11",
   "metadata": {},
   "outputs": [],
   "source": [
    "# Remplis les noeuds du graphe avec ces catégories\n",
    "for node_data in list(G.nodes(data=True)):\n",
    "    G.nodes[node_data[0]]['categorie_macro'] = categories_hs[categories_hs['code_hs4'] == node_data[0]].iloc[0, 1]"
   ]
  },
  {
   "cell_type": "code",
   "execution_count": 11,
   "id": "3a35c37d",
   "metadata": {},
   "outputs": [
    {
     "data": {
      "text/plain": [
       "('9702',\n",
       " {'data': array([ 1.08811969e-03,  3.31011717e-03, -2.77593732e-04, -1.01437245e-03,\n",
       "          2.93128192e-03, -4.48912801e-03,  1.84991950e-04, -6.39753067e-04,\n",
       "         -1.79961440e-03, -4.82683908e-03,  4.81023733e-03, -8.69349809e-04,\n",
       "          2.99863808e-04,  2.89257756e-03, -1.96885131e-03,  2.53269309e-03,\n",
       "          2.51151971e-03, -3.89114313e-04, -2.70129438e-03, -1.07372405e-04,\n",
       "         -2.12158589e-03, -2.18460243e-03,  3.20108305e-03,  2.36525247e-03,\n",
       "         -1.02221791e-03, -5.51855250e-04, -2.75860424e-04,  1.88235636e-03,\n",
       "         -2.91542779e-03, -3.37130181e-03, -2.34717247e-03, -1.91792008e-03,\n",
       "         -3.99097195e-03,  8.92387645e-04,  1.68913428e-03,  4.06169752e-03,\n",
       "          3.32981363e-05,  1.66556245e-04, -3.35586839e-03,  2.21151998e-03,\n",
       "         -1.35082635e-03,  4.38983273e-03,  3.84913670e-04, -7.24570767e-04,\n",
       "         -1.76845794e-03, -4.62271227e-03, -2.20408500e-03,  3.44693963e-03,\n",
       "          4.43214178e-03, -1.69394759e-03,  4.01234254e-03, -2.58035655e-03,\n",
       "          3.49204359e-03,  4.22512041e-03, -3.18945642e-03,  4.55510197e-03,\n",
       "         -1.93010480e-03,  4.54777433e-03, -1.74678827e-03, -3.35620111e-03,\n",
       "         -4.88841813e-03,  4.82013682e-03,  6.67122018e-04, -1.45661528e-04,\n",
       "         -3.54855414e-03, -1.78707216e-03, -3.79926478e-03, -4.32944344e-03,\n",
       "          1.91918074e-03, -4.35484108e-03, -4.76599578e-03, -2.31963815e-03,\n",
       "         -4.92729526e-03, -2.28677457e-03, -6.88868749e-04,  4.33940347e-03,\n",
       "          1.13232550e-03, -4.25891764e-03, -1.13477174e-03,  3.42144538e-03,\n",
       "          2.17112899e-03,  3.80317564e-04, -1.50385499e-03, -5.10905113e-04,\n",
       "          4.63622529e-03,  1.41339598e-03,  3.01148836e-03,  4.90482431e-03,\n",
       "         -2.10560043e-03, -2.98989285e-03,  3.66138038e-03,  2.84606213e-04,\n",
       "         -2.18868442e-03,  4.24107257e-03,  9.81534715e-04,  4.40894114e-03,\n",
       "          9.09763563e-04,  7.84844160e-04,  3.84696119e-04, -1.65421900e-03],\n",
       "        dtype=float32),\n",
       "  'categorie_macro': 19})"
      ]
     },
     "execution_count": 11,
     "metadata": {},
     "output_type": "execute_result"
    }
   ],
   "source": [
    "# Vizualisation des données présent dans les deux premiers noeuds du graph\n",
    "list(G.nodes(data=True))[-1]"
   ]
  },
  {
   "cell_type": "code",
   "execution_count": 12,
   "id": "67cd3210",
   "metadata": {},
   "outputs": [],
   "source": [
    "# Sauvegarde du graph NetworkX dans un fichier\n",
    "#nx.write_gpickle(G, \"/Users/cortial/Documents/Graph_coding/product_graphWithData4int.gpickle\", protocol=4)"
   ]
  },
  {
   "cell_type": "markdown",
   "id": "4aa7a7c3",
   "metadata": {},
   "source": [
    "# Apprentissage des embeddings avec une méthode nonsupervisé graphSAGE\n",
    "\n",
    "L'application d'un GraphSAGE non supervisé, permet de prendre en compte les caractéristiques des nœuds ainsi que **la structure du graphe**. \n",
    "\n",
    "Le but est de **produire de nouveaux embeddings de nœuds en utilisant uniquement la structure du graphe**. De plus dans notre cas, nous n'utilisons pas d'étiquettes de classe/labels de nœuds connues (d'où le terme \"non supervisé\") car notre but final sera de faire du clustering avec les nouveaux embeddings afin de détecter des communautés dans le graphe."
   ]
  },
  {
   "cell_type": "code",
   "execution_count": 13,
   "id": "6518eb93",
   "metadata": {},
   "outputs": [
    {
     "name": "stdout",
     "output_type": "stream",
     "text": [
      "StellarDiGraph: Directed multigraph\n",
      " Nodes: 697, Edges: 5556\n",
      "\n",
      " Node types:\n",
      "  default: [697]\n",
      "    Features: float32 vector, length 100\n",
      "    Edge types: default-default->default\n",
      "\n",
      " Edge types:\n",
      "    default-default->default: [5556]\n",
      "        Weights: range=[-0.342485, 0.295836], mean=0.000165418, std=0.0987356\n",
      "        Features: none\n"
     ]
    }
   ],
   "source": [
    "# Convertir de la class NetworkX to StellarGraph\n",
    "gstellar = StellarGraph.from_networkx(G, node_features='data', edge_weight_attr='score_taoufik')\n",
    "print(gstellar.info())"
   ]
  },
  {
   "cell_type": "markdown",
   "id": "b7b7191a",
   "metadata": {},
   "source": [
    "Le modèle GraphSAGE non supervisé fonctionne en mettant à jour les embeddings de nœuds en résolvant une tâche de classification simple.\n",
    "\n",
    "Pour cela, des paires de nœuds \"positives\" sont générées à partir de marches aléatoires effectuées sur le graphe.\n",
    "Un autre ensemble également grand de paires de nœuds \"négatives\" qui sont sélectionnées aléatoirement dans le graphe selon une certaine distribution (souvent lié au degrés de connection dans le graphe).\n",
    "\n",
    "Exemple de visualisation : https://snap.stanford.edu/graphsage/\n",
    "\n",
    "L'apprentissage de ce classificateur binaire permet de prédire si des paires de nœuds arbitraires sont susceptibles de coïncider dans une marche aléatoire effectuée sur le graphe. Grâce à l'apprentissage de cette tâche simple de classification binaire des paires de nœuds, le modèle apprend automatiquement un mappage inductif des attributs des nœuds et de leurs voisins vers des encastrements de nœuds dans un espace vectoriel à haute dimension, qui préserve les similarités structurelles et fonctionnelles des nœuds. \n",
    "\n",
    "Contrairement aux encastrements obtenus par des algorithmes tels que Node2Vec, cette correspondance est inductive : étant donné un nouveau nœud (avec des attributs) et ses liens vers d'autres nœuds du graphe (qui n'a pas été vu pendant l'apprentissage du modèle), nous pouvons évaluer ses encastrements sans avoir à ré-entraîner le modèle."
   ]
  },
  {
   "cell_type": "code",
   "execution_count": 14,
   "id": "949f0a3a",
   "metadata": {},
   "outputs": [],
   "source": [
    "# parameter specification\n",
    "nodes = list(G.nodes())\n",
    "number_of_walks = 1\n",
    "length = 2"
   ]
  },
  {
   "cell_type": "code",
   "execution_count": 15,
   "id": "4b2bd681",
   "metadata": {},
   "outputs": [],
   "source": [
    "unsupervised_samples = UnsupervisedSampler(\n",
    "    gstellar, nodes=nodes, length=length, number_of_walks=number_of_walks\n",
    ")"
   ]
  },
  {
   "cell_type": "markdown",
   "id": "a378f378",
   "metadata": {},
   "source": [
    "The architecture of the node pair classifier is the following. Input node pairs (with node features) are fed, together with the graph structure, into a pair of identical GraphSAGE encoders, producing a pair of node embeddings. These embeddings are then fed into a node pair classification layer, which applies a binary operator to those node embeddings (e.g., concatenating them), and passes the resulting node pair embeddings through a linear transform followed by a binary activation (e.g., sigmoid), thus predicting a binary label for the node pair.\n",
    "\n",
    "The entire model is trained end-to-end by minimizing the loss function of choice (e.g., binary cross-entropy between predicted node pair labels and true link labels) using stochastic gradient descent (SGD) updates of the model parameters, with minibatches of 'training' links generated on demand and fed into the model.\n",
    "\n",
    "Node embeddings obtained from the encoder part of the trained classifier can be used in various downstream tasks. In this demo, we show how these can be used for predicting node labels."
   ]
  },
  {
   "cell_type": "code",
   "execution_count": 16,
   "id": "1708c4d7",
   "metadata": {},
   "outputs": [],
   "source": [
    "batch_size = 50\n",
    "epochs = 4\n",
    "num_samples = [10, 5]\n",
    "layer_sizes = [50, 50]\n",
    "learning_rate = 1e-2\n",
    "\n",
    "#Olalalalala que c'est compliqué je ne sais pas "
   ]
  },
  {
   "cell_type": "code",
   "execution_count": 17,
   "id": "95c4f909",
   "metadata": {},
   "outputs": [],
   "source": [
    "generator = GraphSAGELinkGenerator(gstellar, batch_size, num_samples)\n",
    "train_gen = generator.flow(unsupervised_samples)"
   ]
  },
  {
   "cell_type": "code",
   "execution_count": 18,
   "id": "8fb38d18",
   "metadata": {},
   "outputs": [],
   "source": [
    "graphsage = GraphSAGE(\n",
    "    layer_sizes=layer_sizes, generator=generator, bias=True, dropout=0.0, normalize=\"l2\"\n",
    ")"
   ]
  },
  {
   "cell_type": "code",
   "execution_count": 19,
   "id": "b1830289",
   "metadata": {},
   "outputs": [],
   "source": [
    "# Build the model and expose input and output sockets of graphsage, for node pair inputs:\n",
    "x_inp, x_out = graphsage.in_out_tensors()"
   ]
  },
  {
   "cell_type": "code",
   "execution_count": 20,
   "id": "a07344d5",
   "metadata": {},
   "outputs": [
    {
     "name": "stdout",
     "output_type": "stream",
     "text": [
      "link_classification: using 'ip' method to combine node embeddings into edge embeddings\n"
     ]
    }
   ],
   "source": [
    "prediction = link_classification(\n",
    "    output_dim=1, output_act=\"sigmoid\", edge_embedding_method=\"ip\"\n",
    ")(x_out)"
   ]
  },
  {
   "cell_type": "code",
   "execution_count": 21,
   "id": "4aa1a8db",
   "metadata": {},
   "outputs": [],
   "source": [
    "model = keras.Model(inputs=x_inp, outputs=prediction)\n",
    "\n",
    "model.compile(\n",
    "    optimizer=keras.optimizers.Adam(learning_rate=1e-3),\n",
    "    loss=keras.losses.binary_crossentropy,\n",
    "    metrics=[keras.metrics.binary_accuracy],\n",
    ")"
   ]
  },
  {
   "cell_type": "code",
   "execution_count": 22,
   "id": "52cbf833",
   "metadata": {},
   "outputs": [],
   "source": [
    "callback = tf.keras.callbacks.EarlyStopping(monitor='loss', verbose=0, patience=3)\n",
    "\n",
    "history = model.fit(\n",
    "    train_gen,\n",
    "    epochs=100,\n",
    "    verbose=0,\n",
    "    use_multiprocessing=False,\n",
    "    workers=4,\n",
    "    shuffle=True,\n",
    "    callbacks=[callback]\n",
    ")"
   ]
  },
  {
   "cell_type": "code",
   "execution_count": 23,
   "id": "8813de1e",
   "metadata": {},
   "outputs": [],
   "source": [
    "x_inp_src = x_inp[0::2]\n",
    "x_out_src = x_out[0]\n",
    "embedding_model = keras.Model(inputs=x_inp_src, outputs=x_out_src)"
   ]
  },
  {
   "cell_type": "code",
   "execution_count": 24,
   "id": "181f4902",
   "metadata": {},
   "outputs": [],
   "source": [
    "node_ids = list(G.nodes)\n",
    "node_gen = GraphSAGENodeGenerator(gstellar, batch_size, num_samples).flow(node_ids)"
   ]
  },
  {
   "cell_type": "code",
   "execution_count": 25,
   "id": "f36b91be",
   "metadata": {},
   "outputs": [
    {
     "name": "stdout",
     "output_type": "stream",
     "text": [
      "14/14 [==============================] - 1s 25ms/step\n"
     ]
    }
   ],
   "source": [
    "node_embeddings = embedding_model.predict(node_gen, workers=4, verbose=1)"
   ]
  },
  {
   "cell_type": "code",
   "execution_count": 26,
   "id": "0238bf91",
   "metadata": {},
   "outputs": [
    {
     "data": {
      "image/png": "[encoded data removed]",
      "text/plain": [
       "<Figure size 432x288 with 1 Axes>"
      ]
     },
     "metadata": {
      "needs_background": "light"
     },
     "output_type": "display_data"
    }
   ],
   "source": [
    "# calculate distortion for a range of number of cluster\n",
    "distortions = []\n",
    "for i in range(1, 30):\n",
    "    km = KMeans(\n",
    "        n_clusters=i, init='random',\n",
    "        n_init=10, max_iter=300,\n",
    "        tol=1e-04, random_state=0\n",
    "    )\n",
    "    km.fit(node_embeddings)\n",
    "    distortions.append(km.inertia_)\n",
    "\n",
    "# plot\n",
    "plt.plot(range(1, 30), distortions, marker='o')\n",
    "plt.xlabel('Number of clusters')\n",
    "plt.ylabel('Distortion')\n",
    "plt.show()\n",
    "\n",
    "kmeans = KMeans(n_clusters=19, random_state=0).fit(node_embeddings)"
   ]
  },
  {
   "cell_type": "code",
   "execution_count": 32,
   "id": "0f35a37f",
   "metadata": {},
   "outputs": [
    {
     "data": {
      "text/plain": [
       "0.08012134622332807"
      ]
     },
     "execution_count": 32,
     "metadata": {},
     "output_type": "execute_result"
    }
   ],
   "source": [
    "metrics.adjusted_rand_score(list(dict(G.nodes.data('categorie_macro')).values()),\n",
    "                           list(kmeans.labels_))"
   ]
  },
  {
   "cell_type": "code",
   "execution_count": 27,
   "id": "e1cf837f",
   "metadata": {},
   "outputs": [
    {
     "name": "stdout",
     "output_type": "stream",
     "text": [
      "adjusted_rand_score 0.10278772930905913\n",
      "rand_score 0.8928000131928296\n",
      "adjusted_mutual_info_score 0.20443634307724987\n",
      "normalized_mutual_info_score 0.2752403227214679\n"
     ]
    }
   ],
   "source": [
    "print('adjusted_rand_score', metrics.adjusted_rand_score(list(dict(G.nodes.data('categorie_macro')).values()),\n",
    "                           list(kmeans.labels_)))\n",
    "print('rand_score', metrics.rand_score(list(dict(G.nodes.data('categorie_macro')).values()),\n",
    "                           list(kmeans.labels_)))\n",
    "print('adjusted_mutual_info_score', metrics.adjusted_mutual_info_score(list(dict(G.nodes.data('categorie_macro')).values()),\n",
    "                           list(kmeans.labels_)))\n",
    "print('normalized_mutual_info_score', metrics.normalized_mutual_info_score(list(dict(G.nodes.data('categorie_macro')).values()),\n",
    "                           list(kmeans.labels_)))"
   ]
  },
  {
   "cell_type": "code",
   "execution_count": 27,
   "id": "4806783e",
   "metadata": {},
   "outputs": [
    {
     "name": "stdout",
     "output_type": "stream",
     "text": [
      "adjusted_rand_score 0.060709472514246944\n",
      "rand_score 0.8916126585200943\n",
      "adjusted_mutual_info_score 0.15912644311700022\n",
      "normalized_mutual_info_score 0.23366386556760144\n"
     ]
    }
   ],
   "source": [
    "print('adjusted_rand_score', metrics.adjusted_rand_score(list(dict(G.nodes.data('categorie_macro')).values()),\n",
    "                           list(kmeans.labels_)))\n",
    "print('rand_score', metrics.rand_score(list(dict(G.nodes.data('categorie_macro')).values()),\n",
    "                           list(kmeans.labels_)))\n",
    "print('adjusted_mutual_info_score', metrics.adjusted_mutual_info_score(list(dict(G.nodes.data('categorie_macro')).values()),\n",
    "                           list(kmeans.labels_)))\n",
    "print('normalized_mutual_info_score', metrics.normalized_mutual_info_score(list(dict(G.nodes.data('categorie_macro')).values()),\n",
    "                           list(kmeans.labels_)))"
   ]
  },
  {
   "cell_type": "code",
   "execution_count": 33,
   "id": "4a2517e7",
   "metadata": {},
   "outputs": [
    {
     "name": "stdout",
     "output_type": "stream",
     "text": [
      "adjusted_rand_score 0.08012134622332807\n",
      "rand_score 0.8919919523738848\n",
      "adjusted_mutual_info_score 0.17638674824431733\n",
      "normalized_mutual_info_score 0.24925058173744163\n"
     ]
    }
   ],
   "source": [
    "print('adjusted_rand_score', metrics.adjusted_rand_score(list(dict(G.nodes.data('categorie_macro')).values()),\n",
    "                           list(kmeans.labels_)))\n",
    "print('rand_score', metrics.rand_score(list(dict(G.nodes.data('categorie_macro')).values()),\n",
    "                           list(kmeans.labels_)))\n",
    "print('adjusted_mutual_info_score', metrics.adjusted_mutual_info_score(list(dict(G.nodes.data('categorie_macro')).values()),\n",
    "                           list(kmeans.labels_)))\n",
    "print('normalized_mutual_info_score', metrics.normalized_mutual_info_score(list(dict(G.nodes.data('categorie_macro')).values()),\n",
    "                           list(kmeans.labels_)))"
   ]
  },
  {
   "cell_type": "code",
   "execution_count": 40,
   "id": "7393349a",
   "metadata": {},
   "outputs": [],
   "source": [
    "adjusted_rand_score = [0.08012134622332807, 0.060709472514246944, 0.10278772930905913]\n",
    "rand_score = [0.8919919523738848, 0.8916126585200943, 0.8928000131928296]\n",
    "adjusted_mutual_info_score = [0.17638674824431733, 0.15912644311700022, 0.20443634307724987]\n",
    "normalized_mutual_info_score = [0.24925058173744163, 0.23366386556760144, 0.2752403227214679]"
   ]
  },
  {
   "cell_type": "code",
   "execution_count": 29,
   "id": "9adf56b3",
   "metadata": {},
   "outputs": [
    {
     "data": {
      "text/plain": [
       "0.059591612538359026"
      ]
     },
     "execution_count": 29,
     "metadata": {},
     "output_type": "execute_result"
    }
   ],
   "source": [
    "metrics.adjusted_rand_score(list(dict(G.nodes.data('categorie_macro')).values()),\n",
    "                           list(kmeans.labels_))"
   ]
  },
  {
   "cell_type": "code",
   "execution_count": 30,
   "id": "b4f0fa44",
   "metadata": {},
   "outputs": [],
   "source": [
    "result = [0.0817028066237117, 0.059590233331490335, 0.08461223897390889]"
   ]
  },
  {
   "cell_type": "code",
   "execution_count": 41,
   "id": "a8bd91a0",
   "metadata": {},
   "outputs": [
    {
     "name": "stdout",
     "output_type": "stream",
     "text": [
      "0.08120618268221139\n",
      "0.8921348746956029\n",
      "0.17998317814618914\n",
      "0.2527182566755037\n"
     ]
    }
   ],
   "source": [
    "print(np.mean(adjusted_rand_score))\n",
    "print(np.mean(rand_score))\n",
    "print(np.mean(adjusted_mutual_info_score))\n",
    "print(np.mean(normalized_mutual_info_score))"
   ]
  },
  {
   "cell_type": "code",
   "execution_count": 42,
   "id": "c3fe11f0",
   "metadata": {},
   "outputs": [
    {
     "name": "stdout",
     "output_type": "stream",
     "text": [
      "0.017195495075347136\n",
      "0.0004951584744642052\n",
      "0.018671680689058962\n",
      "0.01714971378719135\n"
     ]
    }
   ],
   "source": [
    "print(np.std(adjusted_rand_score))\n",
    "print(np.std(rand_score))\n",
    "print(np.std(adjusted_mutual_info_score))\n",
    "print(np.std(normalized_mutual_info_score))"
   ]
  },
  {
   "cell_type": "markdown",
   "id": "07594b30",
   "metadata": {},
   "source": [
    "# Cora dataset"
   ]
  },
  {
   "cell_type": "code",
   "execution_count": 28,
   "id": "09834eab",
   "metadata": {},
   "outputs": [
    {
     "name": "stdout",
     "output_type": "stream",
     "text": [
      "StellarGraph: Undirected multigraph\n",
      " Nodes: 2708, Edges: 5429\n",
      "\n",
      " Node types:\n",
      "  paper: [2708]\n",
      "    Features: float32 vector, length 1433\n",
      "    Edge types: paper-cites->paper\n",
      "\n",
      " Edge types:\n",
      "    paper-cites->paper: [5429]\n",
      "        Weights: all 1 (default)\n",
      "        Features: none\n"
     ]
    }
   ],
   "source": [
    "dataset = datasets.Cora()\n",
    "G, node_subjects = dataset.load()\n",
    "print(G.info())"
   ]
  },
  {
   "cell_type": "code",
   "execution_count": 29,
   "id": "7005cee5",
   "metadata": {},
   "outputs": [
    {
     "name": "stdout",
     "output_type": "stream",
     "text": [
      "link_classification: using 'ip' method to combine node embeddings into edge embeddings\n"
     ]
    },
    {
     "name": "stderr",
     "output_type": "stream",
     "text": [
      "/Users/cortial/opt/anaconda3/lib/python3.8/site-packages/keras/optimizer_v2/adam.py:105: UserWarning: The `lr` argument is deprecated, use `learning_rate` instead.\n",
      "  super(Adam, self).__init__(name, **kwargs)\n"
     ]
    }
   ],
   "source": [
    "nodes = list(G.nodes())\n",
    "number_of_walks = 1\n",
    "length = 5\n",
    "batch_size = 50\n",
    "epochs = 4\n",
    "num_samples = [10, 5]\n",
    "layer_sizes = [50, 50]\n",
    "\n",
    "unsupervised_samples = UnsupervisedSampler(G, nodes=nodes, length=length, number_of_walks=number_of_walks)\n",
    "generator = GraphSAGELinkGenerator(G, batch_size, num_samples)\n",
    "train_gen = generator.flow(unsupervised_samples)\n",
    "graphsage = GraphSAGE(layer_sizes=layer_sizes, generator=generator, bias=True, dropout=0.0, normalize=\"l2\")\n",
    "x_inp, x_out = graphsage.in_out_tensors()\n",
    "prediction = link_classification(output_dim=1, output_act=\"sigmoid\", edge_embedding_method=\"ip\")(x_out)\n",
    "\n",
    "model = keras.Model(inputs=x_inp, outputs=prediction)\n",
    "model.compile(\n",
    "    optimizer=keras.optimizers.Adam(lr=1e-3),\n",
    "    loss=keras.losses.binary_crossentropy,\n",
    "    metrics=[keras.metrics.binary_accuracy],)"
   ]
  },
  {
   "cell_type": "code",
   "execution_count": 30,
   "id": "48c0a662",
   "metadata": {},
   "outputs": [],
   "source": [
    "callback = tf.keras.callbacks.EarlyStopping(monitor='loss', verbose=0, patience=3)\n",
    "\n",
    "history = model.fit(\n",
    "    train_gen,\n",
    "    epochs=100,\n",
    "    verbose=0,\n",
    "    use_multiprocessing=False,\n",
    "    workers=4,\n",
    "    shuffle=True,\n",
    "    callbacks=[callback]\n",
    ")"
   ]
  },
  {
   "cell_type": "code",
   "execution_count": 31,
   "id": "d624775e",
   "metadata": {},
   "outputs": [
    {
     "name": "stdout",
     "output_type": "stream",
     "text": [
      "55/55 [==============================] - 3s 39ms/step\n"
     ]
    }
   ],
   "source": [
    "x_inp_src = x_inp[0::2]\n",
    "x_out_src = x_out[0]\n",
    "embedding_model = keras.Model(inputs=x_inp_src, outputs=x_out_src)\n",
    "node_ids = node_subjects.index\n",
    "node_gen = GraphSAGENodeGenerator(G, batch_size, num_samples).flow(node_ids)\n",
    "node_embeddings = embedding_model.predict(node_gen, workers=4, verbose=1)"
   ]
  },
  {
   "cell_type": "code",
   "execution_count": 32,
   "id": "7da0def6",
   "metadata": {},
   "outputs": [
    {
     "data": {
      "image/png": "[encoded data removed]",
      "text/plain": [
       "<Figure size 432x288 with 1 Axes>"
      ]
     },
     "metadata": {
      "needs_background": "light"
     },
     "output_type": "display_data"
    }
   ],
   "source": [
    "# calculate distortion for a range of number of cluster\n",
    "distortions = []\n",
    "for i in range(1, 10):\n",
    "    km = KMeans(\n",
    "        n_clusters=i, init='random',\n",
    "        n_init=10, max_iter=300,\n",
    "        tol=1e-04, random_state=0\n",
    "    )\n",
    "    km.fit(node_embeddings)\n",
    "    distortions.append(km.inertia_)\n",
    "\n",
    "# plot\n",
    "plt.plot(range(1, 10), distortions, marker='o')\n",
    "plt.xlabel('Number of clusters')\n",
    "plt.ylabel('Distortion')\n",
    "plt.show()\n",
    "\n",
    "\n",
    "kmeans = KMeans(n_clusters=7, random_state=0).fit(node_embeddings)"
   ]
  },
  {
   "cell_type": "code",
   "execution_count": 33,
   "id": "6d209076",
   "metadata": {},
   "outputs": [],
   "source": [
    "le = preprocessing.LabelEncoder()\n",
    "le.fit(node_subjects)\n",
    "list(le.classes_)\n",
    "label_true = le.transform(node_subjects)"
   ]
  },
  {
   "cell_type": "code",
   "execution_count": 9,
   "id": "e0f47786",
   "metadata": {},
   "outputs": [
    {
     "data": {
      "text/plain": [
       "0.41204997009661315"
      ]
     },
     "execution_count": 9,
     "metadata": {},
     "output_type": "execute_result"
    }
   ],
   "source": [
    "metrics.adjusted_rand_score(label_true,\n",
    "                           list(kmeans.labels_))"
   ]
  },
  {
   "cell_type": "code",
   "execution_count": 34,
   "id": "81c5f151",
   "metadata": {},
   "outputs": [
    {
     "name": "stdout",
     "output_type": "stream",
     "text": [
      "adjusted_rand_score 0.46027660317309166\n",
      "rand_score 0.8477321501943372\n",
      "adjusted_mutual_info_score 0.5020472127877605\n",
      "normalized_mutual_info_score 0.5038388433531741\n"
     ]
    }
   ],
   "source": [
    "print('adjusted_rand_score', metrics.adjusted_rand_score(label_true,\n",
    "                           list(kmeans.labels_)))\n",
    "print('rand_score', metrics.rand_score(label_true,\n",
    "                           list(kmeans.labels_)))\n",
    "print('adjusted_mutual_info_score', metrics.adjusted_mutual_info_score(label_true,\n",
    "                           list(kmeans.labels_)))\n",
    "print('normalized_mutual_info_score', metrics.normalized_mutual_info_score(label_true,\n",
    "                           list(kmeans.labels_)))"
   ]
  },
  {
   "cell_type": "code",
   "execution_count": 34,
   "id": "53cf811a",
   "metadata": {},
   "outputs": [
    {
     "name": "stdout",
     "output_type": "stream",
     "text": [
      "adjusted_rand_score 0.44467360827667957\n",
      "rand_score 0.8445403049918724\n",
      "adjusted_mutual_info_score 0.48921328121346425\n",
      "normalized_mutual_info_score 0.49104516405627163\n"
     ]
    }
   ],
   "source": [
    "print('adjusted_rand_score', metrics.adjusted_rand_score(label_true,\n",
    "                           list(kmeans.labels_)))\n",
    "print('rand_score', metrics.rand_score(label_true,\n",
    "                           list(kmeans.labels_)))\n",
    "print('adjusted_mutual_info_score', metrics.adjusted_mutual_info_score(label_true,\n",
    "                           list(kmeans.labels_)))\n",
    "print('normalized_mutual_info_score', metrics.normalized_mutual_info_score(label_true,\n",
    "                           list(kmeans.labels_)))"
   ]
  },
  {
   "cell_type": "code",
   "execution_count": 10,
   "id": "52672257",
   "metadata": {},
   "outputs": [
    {
     "name": "stdout",
     "output_type": "stream",
     "text": [
      "adjusted_rand_score 0.41204997009661315\n",
      "rand_score 0.8367384411223378\n",
      "adjusted_mutual_info_score 0.4725998216103697\n",
      "normalized_mutual_info_score 0.47448484945132646\n"
     ]
    }
   ],
   "source": [
    "print('adjusted_rand_score', metrics.adjusted_rand_score(label_true,\n",
    "                           list(kmeans.labels_)))\n",
    "print('rand_score', metrics.rand_score(label_true,\n",
    "                           list(kmeans.labels_)))\n",
    "print('adjusted_mutual_info_score', metrics.adjusted_mutual_info_score(label_true,\n",
    "                           list(kmeans.labels_)))\n",
    "print('normalized_mutual_info_score', metrics.normalized_mutual_info_score(label_true,\n",
    "                           list(kmeans.labels_)))"
   ]
  },
  {
   "cell_type": "code",
   "execution_count": 40,
   "id": "ca6144ce",
   "metadata": {},
   "outputs": [
    {
     "data": {
      "text/plain": [
       "0.3867261592858465"
      ]
     },
     "execution_count": 40,
     "metadata": {},
     "output_type": "execute_result"
    }
   ],
   "source": [
    "metrics.adjusted_rand_score(label_true,\n",
    "                           list(kmeans.labels_))"
   ]
  },
  {
   "cell_type": "code",
   "execution_count": 36,
   "id": "fafed64a",
   "metadata": {},
   "outputs": [],
   "source": [
    "adjusted_rand_score = [0.41204997009661315, 0.44467360827667957, 0.46027660317309166]\n",
    "rand_score = [0.8367384411223378, 0.8445403049918724, 0.8477321501943372]\n",
    "adjusted_mutual_info_score = [0.4725998216103697, 0.48921328121346425, 0.5020472127877605]\n",
    "normalized_mutual_info_score = [0.47448484945132646, 0.49104516405627163, 0.5038388433531741]"
   ]
  },
  {
   "cell_type": "code",
   "execution_count": 42,
   "id": "024f446f",
   "metadata": {},
   "outputs": [],
   "source": [
    "result = [0.4100377288254731, 0.4077179091098509, 0.4537247271439902]"
   ]
  },
  {
   "cell_type": "code",
   "execution_count": 38,
   "id": "fd7dbc08",
   "metadata": {},
   "outputs": [
    {
     "name": "stdout",
     "output_type": "stream",
     "text": [
      "0.4390000605154614\n",
      "0.8430036321028491\n",
      "0.4879534385371982\n",
      "0.4897896189535908\n"
     ]
    }
   ],
   "source": [
    "print(np.mean(adjusted_rand_score))\n",
    "print(np.mean(rand_score))\n",
    "print(np.mean(adjusted_mutual_info_score))\n",
    "print(np.mean(normalized_mutual_info_score))"
   ]
  },
  {
   "cell_type": "code",
   "execution_count": 39,
   "id": "f4c6d4a3",
   "metadata": {},
   "outputs": [
    {
     "name": "stdout",
     "output_type": "stream",
     "text": [
      "0.020093015247799256\n",
      "0.00461782289727062\n",
      "0.012054808569343477\n",
      "0.012016558981285681\n"
     ]
    }
   ],
   "source": [
    "print(np.std(adjusted_rand_score))\n",
    "print(np.std(rand_score))\n",
    "print(np.std(adjusted_mutual_info_score))\n",
    "print(np.std(normalized_mutual_info_score))"
   ]
  },
  {
   "cell_type": "code",
   "execution_count": null,
   "id": "c21bdc37",
   "metadata": {},
   "outputs": [],
   "source": []
  }
 ],
 "metadata": {
  "colab": {
   "name": "Test_DGL.ipynb",
   "provenance": []
  },
  "kernelspec": {
   "display_name": "base",
   "language": "python",
   "name": "python3"
  },
  "language_info": {
   "codemirror_mode": {
    "name": "ipython",
    "version": 3
   },
   "file_extension": ".py",
   "mimetype": "text/x-python",
   "name": "python",
   "nbconvert_exporter": "python",
   "pygments_lexer": "ipython3",
   "version": "3.8.8 (default, Apr 13 2021, 12:59:45) \n[Clang 10.0.0 ]"
  },
  "vscode": {
   "interpreter": {
    "hash": "3809ee63e3324e72a7ebdb3b117ad3796f764b4ae5df9fd002a27ae8c431b4bc"
   }
  }
 },
 "nbformat": 4,
 "nbformat_minor": 5
}
